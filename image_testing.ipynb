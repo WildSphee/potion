{
 "cells": [
  {
   "cell_type": "code",
   "execution_count": 3,
   "metadata": {},
   "outputs": [
    {
     "name": "stdout",
     "output_type": "stream",
     "text": [
      "The autoreload extension is already loaded. To reload it, use:\n",
      "  %reload_ext autoreload\n"
     ]
    }
   ],
   "source": [
    "%load_ext autoreload\n",
    "%autoreload 2"
   ]
  },
  {
   "cell_type": "code",
   "execution_count": 4,
   "metadata": {},
   "outputs": [
    {
     "data": {
      "text/plain": [
       "'templates/0b4e3d96-3697-4616-8712-5b8ea369bf58.jpg'"
      ]
     },
     "execution_count": 4,
     "metadata": {},
     "output_type": "execute_result"
    }
   ],
   "source": [
    "from tools.replicate import create_image\n",
    "\n",
    "res = await create_image(\"picture of asian / singaporean working in an office\")\n",
    "\n",
    "res"
   ]
  },
  {
   "cell_type": "code",
   "execution_count": 5,
   "metadata": {},
   "outputs": [
    {
     "data": {
      "text/plain": [
       "'templates/0b4e3d96-3697-4616-8712-5b8ea369bf58.jpg'"
      ]
     },
     "execution_count": 5,
     "metadata": {},
     "output_type": "execute_result"
    }
   ],
   "source": [
    "res"
   ]
  },
  {
   "cell_type": "code",
   "execution_count": 1,
   "metadata": {},
   "outputs": [
    {
     "name": "stderr",
     "output_type": "stream",
     "text": [
      "INFO:root:Loaded presentation with 7 slides.\n",
      "With ComposeSchemas length of 7\n",
      "INFO:httpx:HTTP Request: POST https://api.replicate.com/v1/models/black-forest-labs/flux-pro/predictions \"HTTP/1.1 201 Created\"\n",
      "INFO:httpx:HTTP Request: GET https://api.replicate.com/v1/predictions/sgn93gr9bdrg80cjk1cvn8vzn4 \"HTTP/1.1 200 OK\"\n",
      "INFO:httpx:HTTP Request: GET https://api.replicate.com/v1/predictions/sgn93gr9bdrg80cjk1cvn8vzn4 \"HTTP/1.1 200 OK\"\n",
      "INFO:httpx:HTTP Request: GET https://api.replicate.com/v1/predictions/sgn93gr9bdrg80cjk1cvn8vzn4 \"HTTP/1.1 200 OK\"\n",
      "INFO:httpx:HTTP Request: GET https://api.replicate.com/v1/predictions/sgn93gr9bdrg80cjk1cvn8vzn4 \"HTTP/1.1 200 OK\"\n",
      "INFO:httpx:HTTP Request: GET https://api.replicate.com/v1/predictions/sgn93gr9bdrg80cjk1cvn8vzn4 \"HTTP/1.1 200 OK\"\n",
      "INFO:httpx:HTTP Request: GET https://api.replicate.com/v1/predictions/sgn93gr9bdrg80cjk1cvn8vzn4 \"HTTP/1.1 200 OK\"\n",
      "INFO:httpx:HTTP Request: GET https://api.replicate.com/v1/predictions/sgn93gr9bdrg80cjk1cvn8vzn4 \"HTTP/1.1 200 OK\"\n",
      "INFO:httpx:HTTP Request: GET https://api.replicate.com/v1/predictions/sgn93gr9bdrg80cjk1cvn8vzn4 \"HTTP/1.1 200 OK\"\n",
      "INFO:httpx:HTTP Request: GET https://api.replicate.com/v1/predictions/sgn93gr9bdrg80cjk1cvn8vzn4 \"HTTP/1.1 200 OK\"\n",
      "INFO:httpx:HTTP Request: GET https://api.replicate.com/v1/predictions/sgn93gr9bdrg80cjk1cvn8vzn4 \"HTTP/1.1 200 OK\"\n",
      "INFO:httpx:HTTP Request: GET https://api.replicate.com/v1/predictions/sgn93gr9bdrg80cjk1cvn8vzn4 \"HTTP/1.1 200 OK\"\n",
      "INFO:httpx:HTTP Request: GET https://api.replicate.com/v1/predictions/sgn93gr9bdrg80cjk1cvn8vzn4 \"HTTP/1.1 200 OK\"\n",
      "INFO:httpx:HTTP Request: GET https://api.replicate.com/v1/predictions/sgn93gr9bdrg80cjk1cvn8vzn4 \"HTTP/1.1 200 OK\"\n",
      "INFO:httpx:HTTP Request: GET https://api.replicate.com/v1/predictions/sgn93gr9bdrg80cjk1cvn8vzn4 \"HTTP/1.1 200 OK\"\n"
     ]
    },
    {
     "name": "stdout",
     "output_type": "stream",
     "text": [
      "No suitable image placeholder found on the slide.\n"
     ]
    },
    {
     "ename": "AttributeError",
     "evalue": "'NoneType' object has no attribute 'part'",
     "output_type": "error",
     "traceback": [
      "\u001b[0;31m---------------------------------------------------------------------------\u001b[0m",
      "\u001b[0;31mAttributeError\u001b[0m                            Traceback (most recent call last)",
      "Cell \u001b[0;32mIn[1], line 17\u001b[0m\n\u001b[1;32m     14\u001b[0m result_slide \u001b[38;5;241m=\u001b[39m \u001b[38;5;28;01mawait\u001b[39;00m create_image_slide(ds, presentation\u001b[38;5;241m.\u001b[39mslides[\u001b[38;5;241m4\u001b[39m])\n\u001b[1;32m     15\u001b[0m new_presentation \u001b[38;5;241m=\u001b[39m Presentation()\n\u001b[0;32m---> 17\u001b[0m \u001b[43mnew_presentation\u001b[49m\u001b[38;5;241;43m.\u001b[39;49m\u001b[43mslides\u001b[49m\u001b[38;5;241;43m.\u001b[39;49m\u001b[43madd_slide\u001b[49m\u001b[43m(\u001b[49m\u001b[43mresult_slide\u001b[49m\u001b[43m)\u001b[49m\n\u001b[1;32m     18\u001b[0m new_presentation\u001b[38;5;241m.\u001b[39msave(\u001b[38;5;124m\"\u001b[39m\u001b[38;5;124m.\u001b[39m\u001b[38;5;124m\"\u001b[39m)\n",
      "File \u001b[0;32m~/potion/.venv/lib/python3.10/site-packages/pptx/slide.py:270\u001b[0m, in \u001b[0;36mSlides.add_slide\u001b[0;34m(self, slide_layout)\u001b[0m\n\u001b[1;32m    268\u001b[0m \u001b[38;5;28;01mdef\u001b[39;00m \u001b[38;5;21madd_slide\u001b[39m(\u001b[38;5;28mself\u001b[39m, slide_layout: SlideLayout) \u001b[38;5;241m-\u001b[39m\u001b[38;5;241m>\u001b[39m Slide:\n\u001b[1;32m    269\u001b[0m \u001b[38;5;250m    \u001b[39m\u001b[38;5;124;03m\"\"\"Return a newly added slide that inherits layout from `slide_layout`.\"\"\"\u001b[39;00m\n\u001b[0;32m--> 270\u001b[0m     rId, slide \u001b[38;5;241m=\u001b[39m \u001b[38;5;28;43mself\u001b[39;49m\u001b[38;5;241;43m.\u001b[39;49m\u001b[43mpart\u001b[49m\u001b[38;5;241;43m.\u001b[39;49m\u001b[43madd_slide\u001b[49m\u001b[43m(\u001b[49m\u001b[43mslide_layout\u001b[49m\u001b[43m)\u001b[49m\n\u001b[1;32m    271\u001b[0m     slide\u001b[38;5;241m.\u001b[39mshapes\u001b[38;5;241m.\u001b[39mclone_layout_placeholders(slide_layout)\n\u001b[1;32m    272\u001b[0m     \u001b[38;5;28mself\u001b[39m\u001b[38;5;241m.\u001b[39m_sldIdLst\u001b[38;5;241m.\u001b[39madd_sldId(rId)\n",
      "File \u001b[0;32m~/potion/.venv/lib/python3.10/site-packages/pptx/parts/presentation.py:31\u001b[0m, in \u001b[0;36mPresentationPart.add_slide\u001b[0;34m(self, slide_layout)\u001b[0m\n\u001b[1;32m     26\u001b[0m \u001b[38;5;250m\u001b[39m\u001b[38;5;124;03m\"\"\"Return (rId, slide) pair of a newly created blank slide.\u001b[39;00m\n\u001b[1;32m     27\u001b[0m \n\u001b[1;32m     28\u001b[0m \u001b[38;5;124;03mNew slide inherits appearance from `slide_layout`.\u001b[39;00m\n\u001b[1;32m     29\u001b[0m \u001b[38;5;124;03m\"\"\"\u001b[39;00m\n\u001b[1;32m     30\u001b[0m partname \u001b[38;5;241m=\u001b[39m \u001b[38;5;28mself\u001b[39m\u001b[38;5;241m.\u001b[39m_next_slide_partname\n\u001b[0;32m---> 31\u001b[0m slide_layout_part \u001b[38;5;241m=\u001b[39m \u001b[43mslide_layout\u001b[49m\u001b[38;5;241;43m.\u001b[39;49m\u001b[43mpart\u001b[49m\n\u001b[1;32m     32\u001b[0m slide_part \u001b[38;5;241m=\u001b[39m SlidePart\u001b[38;5;241m.\u001b[39mnew(partname, \u001b[38;5;28mself\u001b[39m\u001b[38;5;241m.\u001b[39mpackage, slide_layout_part)\n\u001b[1;32m     33\u001b[0m rId \u001b[38;5;241m=\u001b[39m \u001b[38;5;28mself\u001b[39m\u001b[38;5;241m.\u001b[39mrelate_to(slide_part, RT\u001b[38;5;241m.\u001b[39mSLIDE)\n",
      "\u001b[0;31mAttributeError\u001b[0m: 'NoneType' object has no attribute 'part'"
     ]
    }
   ],
   "source": [
    "from pptx import Presentation\n",
    "\n",
    "from ncsgpt_potion import create_image_slide_builder\n",
    "from potion import DesignSchema\n",
    "\n",
    "ds = DesignSchema(\n",
    "    slide_title=\"Mcdonalds McNuggets\",\n",
    "    desc=\"This slide is about the popularity of McNuggets aroudn the world\",\n",
    "    compose_schema_name=\"\",\n",
    ")\n",
    "\n",
    "\n",
    "presentation = Presentation(\"templates/nila_ppt_template.pptx\")\n",
    "result_slide = await create_image_slide_builder(\"3:2\")(ds, presentation.slides[4])\n",
    "new_presentation = Presentation()\n",
    "\n",
    "new_presentation.slides.add_slide(result_slide)\n",
    "new_presentation.save(\".\")"
   ]
  },
  {
   "cell_type": "code",
   "execution_count": null,
   "metadata": {},
   "outputs": [],
   "source": []
  }
 ],
 "metadata": {
  "kernelspec": {
   "display_name": ".venv",
   "language": "python",
   "name": "python3"
  },
  "language_info": {
   "codemirror_mode": {
    "name": "ipython",
    "version": 3
   },
   "file_extension": ".py",
   "mimetype": "text/x-python",
   "name": "python",
   "nbconvert_exporter": "python",
   "pygments_lexer": "ipython3",
   "version": "3.10.14"
  }
 },
 "nbformat": 4,
 "nbformat_minor": 2
}
