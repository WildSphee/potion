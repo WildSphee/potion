{
 "cells": [
  {
   "cell_type": "code",
   "execution_count": 13,
   "metadata": {},
   "outputs": [
    {
     "name": "stdout",
     "output_type": "stream",
     "text": [
      "The autoreload extension is already loaded. To reload it, use:\n",
      "  %reload_ext autoreload\n"
     ]
    }
   ],
   "source": [
    "%load_ext autoreload\n",
    "%autoreload 2"
   ]
  },
  {
   "cell_type": "code",
   "execution_count": 14,
   "metadata": {},
   "outputs": [],
   "source": [
    "user_input = \"\"\"                                                                                                                                    \n",
    " Slide 0: Title slide                                                                       \n",
    "- Title: UAT Reporting for Project NILA Test Cases                                            \n",
    "\n",
    " Slide 1: Introduction                                                                       \n",
    "- Overview of Project NILA                                                                   \n",
    "- Purpose of UAT User Acceptance Testing                                                     \n",
    "- Importance of UAT in the project lifecycle                                                 \n",
    "\n",
    " Slide 2: UAT Objectives                                                                     \n",
    "- Validate end-to-end business processes                                                     \n",
    "- Ensure system meets user requirements                                                      \n",
    "- Identify and resolve defects before production                                             \n",
    "- Gain user confidence and acceptance                                                        \n",
    "                                                                                             \n",
    " Slide 3: UAT Scope                                                                          \n",
    "- Modules and functionalities covered                                                        \n",
    "- In-scope vs. out-of-scope items                                                            \n",
    "- Test environments and data                                                                 \n",
    "                                                                                             \n",
    " Slide 4: UAT Test Cases                                                                     \n",
    "- Total number of test cases                                                                 \n",
    "- Types of test cases functional, non-functional, regression                                 \n",
    "- Test case prioritization high, medium, low                                                 \n",
    "                                                                                             \n",
    " Slide 5: UAT Execution Plan                                                                 \n",
    "- UAT schedule and timeline                                                                  \n",
    "- Roles and responsibilities                                                                 \n",
    "- Test execution process                                                                     \n",
    "- Defect management process                                                                  \n",
    "                                                                                             \n",
    " Slide 6: UAT Results Summary                                                                \n",
    "- Test case execution status passed, failed, blocked                                         \n",
    "- Defect summary total defects, severity, status                                             \n",
    "- Key findings and observations \n",
    "\n",
    "Slide 7: Defect Analysis                                                                    \n",
    "- Defect categorization by module, severity, type                                            \n",
    "- Root cause analysis                                                                        \n",
    "- Impact assessment                                                                          \n",
    "                                                                                             \n",
    " Slide 8: User Feedback                                                                      \n",
    "- Summary of user feedback                                                                   \n",
    "- User satisfaction ratings                                                                  \n",
    "- Key concerns and suggestions                                                               \n",
    "                                                                                             \n",
    " Slide 9: Risk and Mitigation                                                                \n",
    "- Identified risks during UAT                                                                \n",
    "- Mitigation strategies                                                                      \n",
    "- Contingency plans                                                                          \n",
    "                                                                                             \n",
    " Slide 10: Recommendations and Next Steps                                                    \n",
    "- Recommendations for improvement                                                            \n",
    "- Action items for defect resolution                                                         \n",
    "- Plan for re-testing and validation                                                         \n",
    "- GoNo-Go decision criteria                                                                  \n",
    "                                                                                             \n",
    " Slide 11: Conclusion                                                                        \n",
    "- Recap of UAT objectives and outcomes                                                       \n",
    "- Importance of UAT in ensuring project success                                              \n",
    "- Acknowledgments and thanks                                                                 \n",
    "                                                                                             \n",
    " Slide 12: QA                                                                                \n",
    "- Open floor for questions and answers   \n",
    "\"\"\""
   ]
  },
  {
   "cell_type": "code",
   "execution_count": 15,
   "metadata": {},
   "outputs": [],
   "source": [
    "from ncsgpt_potion import ncspotion\n",
    "from potion import DesignSchema\n",
    "\n",
    "# design = ncspotion.design(user_input, 1)\n",
    "\n",
    "# print(design)"
   ]
  },
  {
   "cell_type": "code",
   "execution_count": 16,
   "metadata": {},
   "outputs": [],
   "source": [
    "design = [\n",
    "    DesignSchema(\n",
    "        slide_title=\"Title Slide\",\n",
    "        desc=\"UAT Reporting for Project NILA Test Cases\",\n",
    "        compose_schema_name=\"title_slide\",\n",
    "    ),\n",
    "    DesignSchema(\n",
    "        slide_title=\"Introduction\",\n",
    "        desc=\"Overview of Project NILA and the purpose of User Acceptance Testing.\",\n",
    "        compose_schema_name=\"text_slide\",\n",
    "    ),\n",
    "    DesignSchema(\n",
    "        slide_title=\"UAT Objectives\",\n",
    "        desc=\"Validate business processes, ensure system meets requirements, and gain user acceptance.\",\n",
    "        compose_schema_name=\"text_slide\",\n",
    "    ),\n",
    "    DesignSchema(\n",
    "        slide_title=\"UAT Scope\",\n",
    "        desc=\"Details on modules covered, in-scope items, and test environments used.\",\n",
    "        compose_schema_name=\"text_slide\",\n",
    "    ),\n",
    "    DesignSchema(\n",
    "        slide_title=\"Test Cases\",\n",
    "        desc=\"Overview of total test cases, types, and prioritization for execution.\",\n",
    "        compose_schema_name=\"text_slide\",\n",
    "    ),\n",
    "    DesignSchema(\n",
    "        slide_title=\"Execution Plan\",\n",
    "        desc=\"Schedule, roles, test execution process, and defect management outlined.\",\n",
    "        compose_schema_name=\"text_slide\",\n",
    "    ),\n",
    "    DesignSchema(\n",
    "        slide_title=\"Results Summary\",\n",
    "        desc=\"Summary of test case execution status and key findings from testing.\",\n",
    "        compose_schema_name=\"text_slide\",\n",
    "    ),\n",
    "    DesignSchema(\n",
    "        slide_title=\"Defect Analysis\",\n",
    "        desc=\"Categorization of defects by module, severity, and root cause assessment.\",\n",
    "        compose_schema_name=\"text_slide\",\n",
    "    ),\n",
    "    DesignSchema(\n",
    "        slide_title=\"User Feedback\",\n",
    "        desc=\"Summary of user feedback, satisfaction ratings, and key concerns noted.\",\n",
    "        compose_schema_name=\"text_slide\",\n",
    "    ),\n",
    "    DesignSchema(\n",
    "        slide_title=\"Risk Mitigation\",\n",
    "        desc=\"Identified risks during UAT and strategies for mitigation and contingency.\",\n",
    "        compose_schema_name=\"text_slide\",\n",
    "    ),\n",
    "    DesignSchema(\n",
    "        slide_title=\"Next Steps\",\n",
    "        desc=\"Recommendations for improvement and action items for defect resolution.\",\n",
    "        compose_schema_name=\"text_slide\",\n",
    "    ),\n",
    "    DesignSchema(\n",
    "        slide_title=\"Conclusion\",\n",
    "        desc=\"Recap of UAT objectives, outcomes, and acknowledgments for contributions.\",\n",
    "        compose_schema_name=\"end_slide\",\n",
    "    ),\n",
    "    DesignSchema(\n",
    "        slide_title=\"Q&A\",\n",
    "        desc=\"Open floor for questions and answers regarding the UAT process.\",\n",
    "        compose_schema_name=\"text_slide\",\n",
    "    ),\n",
    "]"
   ]
  },
  {
   "cell_type": "code",
   "execution_count": 17,
   "metadata": {},
   "outputs": [
    {
     "name": "stdout",
     "output_type": "stream",
     "text": [
      "COMPOSING slide_title='Title Slide' desc='UAT Reporting for Project NILA Test Cases' compose_schema_name='title_slide'\n",
      "COMPOSING slide_title='Introduction' desc='Overview of Project NILA and the purpose of User Acceptance Testing.' compose_schema_name='text_slide'\n",
      "COMPOSING slide_title='UAT Objectives' desc='Validate business processes, ensure system meets requirements, and gain user acceptance.' compose_schema_name='text_slide'\n",
      "COMPOSING slide_title='UAT Scope' desc='Details on modules covered, in-scope items, and test environments used.' compose_schema_name='text_slide'\n",
      "COMPOSING slide_title='Test Cases' desc='Overview of total test cases, types, and prioritization for execution.' compose_schema_name='text_slide'\n",
      "COMPOSING slide_title='Execution Plan' desc='Schedule, roles, test execution process, and defect management outlined.' compose_schema_name='text_slide'\n",
      "COMPOSING slide_title='Results Summary' desc='Summary of test case execution status and key findings from testing.' compose_schema_name='text_slide'\n",
      "COMPOSING slide_title='Defect Analysis' desc='Categorization of defects by module, severity, and root cause assessment.' compose_schema_name='text_slide'\n",
      "COMPOSING slide_title='User Feedback' desc='Summary of user feedback, satisfaction ratings, and key concerns noted.' compose_schema_name='text_slide'\n",
      "COMPOSING slide_title='Risk Mitigation' desc='Identified risks during UAT and strategies for mitigation and contingency.' compose_schema_name='text_slide'\n",
      "COMPOSING slide_title='Next Steps' desc='Recommendations for improvement and action items for defect resolution.' compose_schema_name='text_slide'\n",
      "COMPOSING slide_title='Conclusion' desc='Recap of UAT objectives, outcomes, and acknowledgments for contributions.' compose_schema_name='end_slide'\n",
      "COMPOSING slide_title='Q&A' desc='Open floor for questions and answers regarding the UAT process.' compose_schema_name='text_slide'\n",
      "<pptx.presentation.Presentation object at 0x7ff5eb04df60>\n"
     ]
    }
   ],
   "source": [
    "\n",
    "res_url = await ncspotion.compose(design_schemas=design)\n",
    "print(ncspotion.presentation)"
   ]
  },
  {
   "cell_type": "code",
   "execution_count": 18,
   "metadata": {},
   "outputs": [
    {
     "name": "stdout",
     "output_type": "stream",
     "text": [
      "SAVING output/output.pptx\n"
     ]
    },
    {
     "name": "stdout",
     "output_type": "stream",
     "text": [
      "None\n"
     ]
    }
   ],
   "source": [
    "path = ncspotion.save()\n",
    "\n",
    "print(path)"
   ]
  },
  {
   "cell_type": "code",
   "execution_count": null,
   "metadata": {},
   "outputs": [],
   "source": []
  }
 ],
 "metadata": {
  "kernelspec": {
   "display_name": ".venv",
   "language": "python",
   "name": "python3"
  },
  "language_info": {
   "codemirror_mode": {
    "name": "ipython",
    "version": 3
   },
   "file_extension": ".py",
   "mimetype": "text/x-python",
   "name": "python",
   "nbconvert_exporter": "python",
   "pygments_lexer": "ipython3",
   "version": "3.10.14"
  }
 },
 "nbformat": 4,
 "nbformat_minor": 2
}
