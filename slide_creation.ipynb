{
 "cells": [
  {
   "cell_type": "code",
   "execution_count": 1,
   "metadata": {},
   "outputs": [],
   "source": [
    "%load_ext autoreload\n",
    "%autoreload 2"
   ]
  },
  {
   "cell_type": "code",
   "execution_count": 2,
   "metadata": {},
   "outputs": [],
   "source": [
    "user_input = \"\"\"                                                                                                                                    \n",
    "Slide 0: Title Slide - \n",
    "This slide will display the presentation title: \"Exploring Global Cuisines and Restaurant Sales Trends.\"\n",
    "\n",
    "Slide 1: Global Overview of Cuisines - \n",
    "This slide will describe the most popular cuisines globally, highlighting the appeal of cuisines like Italian, Chinese, Indian, and Japanese.\n",
    "\n",
    "Slide 2: Regional Preferences - \n",
    "This slide will present data on regional preferences, such as the popularity of American fast food in North America and Asian cuisines in Southeast Asia.\n",
    "\n",
    "Slide 3: Sales Trends in Restaurants by Region - \n",
    "This slide will show restaurant sales data for major markets, comparing regions like North America, Europe, and Asia in terms of growth and market size.\n",
    "\n",
    "Slide 4: Top Earning Cuisines - \n",
    "This slide will showcase the top-earning cuisines based on revenue, such as Italian pizza chains, Japanese sushi restaurants, and American fast-food franchises.\n",
    "\n",
    "Slide 5: Impact of Cultural Differences on Sales - \n",
    "This slide will explore how cultural differences shape dining preferences, impacting the success of certain cuisines in specific regions.\n",
    "\n",
    "Slide 6: Global Restaurant Chains and Market Share - \n",
    "This slide will analyze major restaurant chains like McDonald's, Starbucks, and KFC, discussing their global presence and sales figures.\n",
    "\n",
    "Slide 7: Effects of COVID-19 on Restaurant Sales - \n",
    "This slide will discuss how the pandemic has impacted restaurant sales globally, including shifts towards delivery and takeaway services.\n",
    "\n",
    "Slide 8: Recommendations for Restaurant Businesses - \n",
    "This slide will offer actionable insights for restaurant businesses to adapt to regional preferences and global sales trends.\n",
    "\n",
    "Slide 9: Conclusion - \n",
    "This slide will summarize the key takeaways from the presentation, reinforcing the importance of understanding global cuisine trends and restaurant sales.\n",
    "\"\"\""
   ]
  },
  {
   "cell_type": "code",
   "execution_count": 3,
   "metadata": {},
   "outputs": [
    {
     "name": "stderr",
     "output_type": "stream",
     "text": [
      "INFO:root:Loaded presentation with 7 slides.\n",
      "With ComposeSchemas length of 7\n"
     ]
    }
   ],
   "source": [
    "from ncsgpt_potion import ncspotion\n",
    "from potion import DesignSchema\n",
    "\n",
    "design = await ncspotion.design(user_input, 1)\n",
    "\n",
    "print(design)"
   ]
  },
  {
   "cell_type": "code",
   "execution_count": 4,
   "metadata": {},
   "outputs": [],
   "source": [
    "design = [\n",
    "    DesignSchema(\n",
    "        slide_title=\"Title Slide\",\n",
    "        desc=\"This slide will display the presentation title: 'Exploring Global Cuisines and Restaurant Sales Trends.'\",\n",
    "        compose_schema_name=\"title_slide\",\n",
    "    ),\n",
    "    DesignSchema(\n",
    "        slide_title=\"Global Cuisines\",\n",
    "        desc=\"This slide will describe the most popular cuisines globally, highlighting Italian, Chinese, Indian, and Japanese cuisines.\",\n",
    "        compose_schema_name=\"text_slide\",\n",
    "    ),\n",
    "    DesignSchema(\n",
    "        slide_title=\"Regional Preferences\",\n",
    "        desc=\"This slide will present data on regional preferences, showcasing American fast food in North America and Asian cuisines in Southeast Asia.\",\n",
    "        compose_schema_name=\"point_form_slide\",\n",
    "    ),\n",
    "    DesignSchema(\n",
    "        slide_title=\"Sales Trends\",\n",
    "        desc=\"This slide will show restaurant sales data for major markets, comparing North America, Europe, and Asia in terms of growth.\",\n",
    "        compose_schema_name=\"image_left_slide\",\n",
    "    ),\n",
    "    DesignSchema(\n",
    "        slide_title=\"Top Earning Cuisines\",\n",
    "        desc=\"This slide will showcase the top-earning cuisines based on revenue, including Italian pizza chains and American fast-food franchises.\",\n",
    "        compose_schema_name=\"point_form_slide\",\n",
    "    ),\n",
    "    DesignSchema(\n",
    "        slide_title=\"Cultural Impact\",\n",
    "        desc=\"This slide will explore how cultural differences shape dining preferences, impacting the success of certain cuisines in specific regions.\",\n",
    "        compose_schema_name=\"text_slide\",\n",
    "    ),\n",
    "    DesignSchema(\n",
    "        slide_title=\"Global Chains\",\n",
    "        desc=\"This slide will analyze major restaurant chains like McDonald's and Starbucks, discussing their global presence and sales figures.\",\n",
    "        compose_schema_name=\"image_right_slide\",\n",
    "    ),\n",
    "    DesignSchema(\n",
    "        slide_title=\"COVID-19 Effects\",\n",
    "        desc=\"This slide will discuss how the pandemic has impacted restaurant sales globally, including shifts towards delivery and takeaway services.\",\n",
    "        compose_schema_name=\"text_slide\",\n",
    "    ),\n",
    "    DesignSchema(\n",
    "        slide_title=\"Business Recommendations\",\n",
    "        desc=\"This slide will offer actionable insights for restaurant businesses to adapt to regional preferences and global sales trends.\",\n",
    "        compose_schema_name=\"point_form_slide\",\n",
    "    ),\n",
    "    DesignSchema(\n",
    "        slide_title=\"Conclusion\",\n",
    "        desc=\"This slide will summarize the key takeaways from the presentation, reinforcing the importance of understanding global cuisine trends.\",\n",
    "        compose_schema_name=\"end_slide\",\n",
    "    ),\n",
    "]"
   ]
  },
  {
   "cell_type": "code",
   "execution_count": 5,
   "metadata": {},
   "outputs": [
    {
     "name": "stderr",
     "output_type": "stream",
     "text": [
      "INFO:root:Duplicated slide 0.\n",
      "INFO:root:Duplicated slide 1.\n",
      "INFO:root:Duplicated slide 2.\n",
      "INFO:root:Duplicated slide 4.\n",
      "INFO:root:Duplicated slide 2.\n",
      "INFO:root:Duplicated slide 1.\n",
      "INFO:root:Duplicated slide 3.\n",
      "INFO:root:Duplicated slide 1.\n",
      "INFO:root:Duplicated slide 2.\n",
      "INFO:root:Duplicated slide 6.\n",
      "INFO:httpx:HTTP Request: POST https://api.openai.com/v1/chat/completions \"HTTP/1.1 200 OK\"\n",
      "INFO:httpx:HTTP Request: POST https://api.openai.com/v1/chat/completions \"HTTP/1.1 200 OK\"\n",
      "INFO:httpx:HTTP Request: POST https://api.openai.com/v1/chat/completions \"HTTP/1.1 200 OK\"\n",
      "INFO:httpx:HTTP Request: POST https://api.openai.com/v1/chat/completions \"HTTP/1.1 200 OK\"\n",
      "INFO:httpx:HTTP Request: POST https://api.openai.com/v1/chat/completions \"HTTP/1.1 200 OK\"\n",
      "INFO:httpx:HTTP Request: POST https://api.openai.com/v1/chat/completions \"HTTP/1.1 200 OK\"\n",
      "INFO:httpx:HTTP Request: POST https://api.openai.com/v1/chat/completions \"HTTP/1.1 200 OK\"\n",
      "INFO:httpx:HTTP Request: POST https://api.replicate.com/v1/models/black-forest-labs/flux-pro/predictions \"HTTP/1.1 201 Created\"\n",
      "INFO:httpx:HTTP Request: POST https://api.replicate.com/v1/models/black-forest-labs/flux-pro/predictions \"HTTP/1.1 201 Created\"\n",
      "INFO:httpx:HTTP Request: GET https://api.replicate.com/v1/predictions/4gfq7nsmznrgc0cjk1rvk07bnr \"HTTP/1.1 200 OK\"\n",
      "INFO:httpx:HTTP Request: GET https://api.replicate.com/v1/predictions/hy4ddghn1nrg80cjk1rt6yts14 \"HTTP/1.1 200 OK\"\n",
      "INFO:httpx:HTTP Request: GET https://api.replicate.com/v1/predictions/4gfq7nsmznrgc0cjk1rvk07bnr \"HTTP/1.1 200 OK\"\n",
      "INFO:httpx:HTTP Request: GET https://api.replicate.com/v1/predictions/hy4ddghn1nrg80cjk1rt6yts14 \"HTTP/1.1 200 OK\"\n",
      "INFO:httpx:HTTP Request: GET https://api.replicate.com/v1/predictions/4gfq7nsmznrgc0cjk1rvk07bnr \"HTTP/1.1 200 OK\"\n",
      "INFO:httpx:HTTP Request: GET https://api.replicate.com/v1/predictions/hy4ddghn1nrg80cjk1rt6yts14 \"HTTP/1.1 200 OK\"\n",
      "INFO:httpx:HTTP Request: GET https://api.replicate.com/v1/predictions/4gfq7nsmznrgc0cjk1rvk07bnr \"HTTP/1.1 200 OK\"\n",
      "INFO:httpx:HTTP Request: GET https://api.replicate.com/v1/predictions/hy4ddghn1nrg80cjk1rt6yts14 \"HTTP/1.1 200 OK\"\n",
      "INFO:httpx:HTTP Request: GET https://api.replicate.com/v1/predictions/4gfq7nsmznrgc0cjk1rvk07bnr \"HTTP/1.1 200 OK\"\n",
      "INFO:httpx:HTTP Request: GET https://api.replicate.com/v1/predictions/hy4ddghn1nrg80cjk1rt6yts14 \"HTTP/1.1 200 OK\"\n",
      "INFO:httpx:HTTP Request: GET https://api.replicate.com/v1/predictions/hy4ddghn1nrg80cjk1rt6yts14 \"HTTP/1.1 200 OK\"\n",
      "INFO:httpx:HTTP Request: GET https://api.replicate.com/v1/predictions/4gfq7nsmznrgc0cjk1rvk07bnr \"HTTP/1.1 200 OK\"\n",
      "INFO:httpx:HTTP Request: GET https://api.replicate.com/v1/predictions/hy4ddghn1nrg80cjk1rt6yts14 \"HTTP/1.1 200 OK\"\n",
      "INFO:httpx:HTTP Request: GET https://api.replicate.com/v1/predictions/4gfq7nsmznrgc0cjk1rvk07bnr \"HTTP/1.1 200 OK\"\n",
      "INFO:httpx:HTTP Request: GET https://api.replicate.com/v1/predictions/hy4ddghn1nrg80cjk1rt6yts14 \"HTTP/1.1 200 OK\"\n",
      "INFO:httpx:HTTP Request: GET https://api.replicate.com/v1/predictions/4gfq7nsmznrgc0cjk1rvk07bnr \"HTTP/1.1 200 OK\"\n",
      "INFO:httpx:HTTP Request: GET https://api.replicate.com/v1/predictions/4gfq7nsmznrgc0cjk1rvk07bnr \"HTTP/1.1 200 OK\"\n",
      "INFO:httpx:HTTP Request: GET https://api.replicate.com/v1/predictions/hy4ddghn1nrg80cjk1rt6yts14 \"HTTP/1.1 200 OK\"\n"
     ]
    },
    {
     "name": "stdout",
     "output_type": "stream",
     "text": [
      "Image has been inserted into the slide.\n",
      "Image has been inserted into the slide.\n"
     ]
    },
    {
     "name": "stderr",
     "output_type": "stream",
     "text": [
      "INFO:httpx:HTTP Request: GET https://api.replicate.com/v1/predictions/hy4ddghn1nrg80cjk1rt6yts14 \"HTTP/1.1 200 OK\"\n",
      "INFO:root:Completed composing the presentation.\n",
      "INFO:root:Presentation saved to output/output.pptx.\n"
     ]
    },
    {
     "name": "stdout",
     "output_type": "stream",
     "text": [
      "Image has been inserted into the slide.\n",
      "output/output.pptx\n"
     ]
    }
   ],
   "source": [
    "await ncspotion.compose(design)\n",
    "\n",
    "path = ncspotion.save(design[0].desc)\n",
    "\n",
    "print(path)"
   ]
  },
  {
   "cell_type": "code",
   "execution_count": null,
   "metadata": {},
   "outputs": [],
   "source": []
  }
 ],
 "metadata": {
  "kernelspec": {
   "display_name": ".venv",
   "language": "python",
   "name": "python3"
  },
  "language_info": {
   "codemirror_mode": {
    "name": "ipython",
    "version": 3
   },
   "file_extension": ".py",
   "mimetype": "text/x-python",
   "name": "python",
   "nbconvert_exporter": "python",
   "pygments_lexer": "ipython3",
   "version": "3.10.14"
  }
 },
 "nbformat": 4,
 "nbformat_minor": 2
}
